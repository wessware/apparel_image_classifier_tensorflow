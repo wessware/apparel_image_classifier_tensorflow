{
 "cells": [
  {
   "cell_type": "code",
   "execution_count": 1,
   "metadata": {},
   "outputs": [
    {
     "name": "stdout",
     "output_type": "stream",
     "text": [
      "3.10.4\n"
     ]
    }
   ],
   "source": [
    "from platform import python_version\n",
    "print(python_version())"
   ]
  },
  {
   "cell_type": "code",
   "execution_count": 3,
   "metadata": {},
   "outputs": [],
   "source": [
    "import os\n",
    "import zipfile\n",
    "from skimage.io import imread_collection\n",
    "import matplotlib.pyplot as plt\n",
    "%matplotlib inline"
   ]
  },
  {
   "cell_type": "code",
   "execution_count": 7,
   "metadata": {},
   "outputs": [],
   "source": [
    "#from keras.preprocessing.image import load_img\n",
    "from tensorflow.keras.utils import img_to_array, load_img\n",
    "from keras.applications.vgg16 import preprocess_input\n",
    "from keras.applications.vgg16 import decode_predictions\n",
    "from keras.applications.vgg16 import VGG16\n",
    "from keras import applications"
   ]
  },
  {
   "cell_type": "code",
   "execution_count": 10,
   "metadata": {},
   "outputs": [],
   "source": [
    "    from tensorflow.keras.preprocessing.image import ImageDataGenerator\n",
    "    from keras import optimizers\n",
    "    from keras.models import Sequential, Model\n",
    "    from keras.layers import Dropout, Flatten, Dense, GlobalAveragePooling2D\n",
    "    from keras import backend as k\n",
    "    import keras"
   ]
  },
  {
   "cell_type": "code",
   "execution_count": 22,
   "metadata": {},
   "outputs": [],
   "source": [
    "with zipfile.ZipFile(\"male.zip\", \"r\") as zip:\n",
    "    zip.extractall(\"/images/male/\")"
   ]
  },
  {
   "cell_type": "code",
   "execution_count": 17,
   "metadata": {},
   "outputs": [
    {
     "name": "stdout",
     "output_type": "stream",
     "text": [
      "getcwd       : c:\\Users\\Dell I5\\Documents\\PROJECTS\\image_classifier\n"
     ]
    }
   ],
   "source": [
    "print('getcwd       :', os.getcwd())"
   ]
  },
  {
   "cell_type": "code",
   "execution_count": 23,
   "metadata": {},
   "outputs": [
    {
     "name": "stdout",
     "output_type": "stream",
     "text": [
      "Number of men shoes pictures: 0.\n"
     ]
    }
   ],
   "source": [
    "#reading folder\n",
    "men = \"/c:/Users/Dell I5/Documents/PROJECTS/image_classifier/images/male/*.jpg\"\n",
    "#create image collection\n",
    "men_shoes = imread_collection(men)\n",
    "print(f\"Number of men shoes pictures: {len(men_shoes)}.\")"
   ]
  },
  {
   "cell_type": "code",
   "execution_count": 24,
   "metadata": {},
   "outputs": [],
   "source": [
    "with zipfile.ZipFile(\"female.zip\", \"r\") as zip_ref:\n",
    "    zip_ref.extractall(\"/images/female/\")"
   ]
  },
  {
   "cell_type": "code",
   "execution_count": 26,
   "metadata": {},
   "outputs": [
    {
     "name": "stdout",
     "output_type": "stream",
     "text": [
      "Number of women shoes pictures: 0.\n"
     ]
    }
   ],
   "source": [
    "men = \"/c:/Users/Dell I5/Documents/PROJECTS/image_classifier/images/female/*.jpg\"\n",
    "#create image collection\n",
    "women_shoes = imread_collection(men)\n",
    "print(f\"Number of women shoes pictures: {len(women_shoes)}.\")"
   ]
  },
  {
   "cell_type": "code",
   "execution_count": 27,
   "metadata": {},
   "outputs": [
    {
     "name": "stdout",
     "output_type": "stream",
     "text": [
      "Downloading data from https://storage.googleapis.com/tensorflow/keras-applications/vgg16/vgg16_weights_tf_dim_ordering_tf_kernels_notop.h5\n",
      "58889256/58889256 [==============================] - 82s 1us/step\n"
     ]
    }
   ],
   "source": [
    "model_mdl = VGG16(weights='imagenet', include_top=False, input_shape=(224, 224, 3))"
   ]
  },
  {
   "cell_type": "code",
   "execution_count": 28,
   "metadata": {},
   "outputs": [
    {
     "name": "stdout",
     "output_type": "stream",
     "text": [
      "Model: \"vgg16\"\n",
      "_________________________________________________________________\n",
      " Layer (type)                Output Shape              Param #   \n",
      "=================================================================\n",
      " input_1 (InputLayer)        [(None, 224, 224, 3)]     0         \n",
      "                                                                 \n",
      " block1_conv1 (Conv2D)       (None, 224, 224, 64)      1792      \n",
      "                                                                 \n",
      " block1_conv2 (Conv2D)       (None, 224, 224, 64)      36928     \n",
      "                                                                 \n",
      " block1_pool (MaxPooling2D)  (None, 112, 112, 64)      0         \n",
      "                                                                 \n",
      " block2_conv1 (Conv2D)       (None, 112, 112, 128)     73856     \n",
      "                                                                 \n",
      " block2_conv2 (Conv2D)       (None, 112, 112, 128)     147584    \n",
      "                                                                 \n",
      " block2_pool (MaxPooling2D)  (None, 56, 56, 128)       0         \n",
      "                                                                 \n",
      " block3_conv1 (Conv2D)       (None, 56, 56, 256)       295168    \n",
      "                                                                 \n",
      " block3_conv2 (Conv2D)       (None, 56, 56, 256)       590080    \n",
      "                                                                 \n",
      " block3_conv3 (Conv2D)       (None, 56, 56, 256)       590080    \n",
      "                                                                 \n",
      " block3_pool (MaxPooling2D)  (None, 28, 28, 256)       0         \n",
      "                                                                 \n",
      " block4_conv1 (Conv2D)       (None, 28, 28, 512)       1180160   \n",
      "                                                                 \n",
      " block4_conv2 (Conv2D)       (None, 28, 28, 512)       2359808   \n",
      "                                                                 \n",
      " block4_conv3 (Conv2D)       (None, 28, 28, 512)       2359808   \n",
      "                                                                 \n",
      " block4_pool (MaxPooling2D)  (None, 14, 14, 512)       0         \n",
      "                                                                 \n",
      " block5_conv1 (Conv2D)       (None, 14, 14, 512)       2359808   \n",
      "                                                                 \n",
      " block5_conv2 (Conv2D)       (None, 14, 14, 512)       2359808   \n",
      "                                                                 \n",
      " block5_conv3 (Conv2D)       (None, 14, 14, 512)       2359808   \n",
      "                                                                 \n",
      " block5_pool (MaxPooling2D)  (None, 7, 7, 512)         0         \n",
      "                                                                 \n",
      "=================================================================\n",
      "Total params: 14,714,688\n",
      "Trainable params: 14,714,688\n",
      "Non-trainable params: 0\n",
      "_________________________________________________________________\n"
     ]
    }
   ],
   "source": [
    "model_mdl.summary()"
   ]
  },
  {
   "cell_type": "code",
   "execution_count": 29,
   "metadata": {},
   "outputs": [],
   "source": [
    "def data_process(data):\n",
    "    image = load_img(data, target_size=(224, 224))\n",
    "\n",
    "    image = img_to_array(image)\n",
    "\n",
    "    image = image.reshape((1, image.shape[0], image.shape[1], image.shape[2]))\n",
    "    image = preprocess_input(image)\n",
    "\n",
    "    features = model_mdl.predict(image)\n",
    "\n",
    "    return features\n",
    "    "
   ]
  },
  {
   "cell_type": "code",
   "execution_count": 30,
   "metadata": {},
   "outputs": [
    {
     "ename": "PermissionError",
     "evalue": "[Errno 13] Permission denied: '/'",
     "output_type": "error",
     "traceback": [
      "\u001b[1;31m---------------------------------------------------------------------------\u001b[0m",
      "\u001b[1;31mPermissionError\u001b[0m                           Traceback (most recent call last)",
      "\u001b[1;32mc:\\Users\\Dell I5\\Documents\\PROJECTS\\image_classifier\\image_classifier.ipynb Cell 13'\u001b[0m in \u001b[0;36m<cell line: 3>\u001b[1;34m()\u001b[0m\n\u001b[0;32m      <a href='vscode-notebook-cell:/c%3A/Users/Dell%20I5/Documents/PROJECTS/image_classifier/image_classifier.ipynb#ch0000013?line=0'>1</a>\u001b[0m m \u001b[39m=\u001b[39m []\n\u001b[0;32m      <a href='vscode-notebook-cell:/c%3A/Users/Dell%20I5/Documents/PROJECTS/image_classifier/image_classifier.ipynb#ch0000013?line=2'>3</a>\u001b[0m \u001b[39mfor\u001b[39;00m i \u001b[39min\u001b[39;00m men:\n\u001b[1;32m----> <a href='vscode-notebook-cell:/c%3A/Users/Dell%20I5/Documents/PROJECTS/image_classifier/image_classifier.ipynb#ch0000013?line=3'>4</a>\u001b[0m     m\u001b[39m.\u001b[39mappend(data_process(i))\n",
      "\u001b[1;32mc:\\Users\\Dell I5\\Documents\\PROJECTS\\image_classifier\\image_classifier.ipynb Cell 12'\u001b[0m in \u001b[0;36mdata_process\u001b[1;34m(data)\u001b[0m\n\u001b[0;32m      <a href='vscode-notebook-cell:/c%3A/Users/Dell%20I5/Documents/PROJECTS/image_classifier/image_classifier.ipynb#ch0000012?line=0'>1</a>\u001b[0m \u001b[39mdef\u001b[39;00m \u001b[39mdata_process\u001b[39m(data):\n\u001b[1;32m----> <a href='vscode-notebook-cell:/c%3A/Users/Dell%20I5/Documents/PROJECTS/image_classifier/image_classifier.ipynb#ch0000012?line=1'>2</a>\u001b[0m     image \u001b[39m=\u001b[39m load_img(data, target_size\u001b[39m=\u001b[39;49m(\u001b[39m224\u001b[39;49m, \u001b[39m224\u001b[39;49m))\n\u001b[0;32m      <a href='vscode-notebook-cell:/c%3A/Users/Dell%20I5/Documents/PROJECTS/image_classifier/image_classifier.ipynb#ch0000012?line=3'>4</a>\u001b[0m     image \u001b[39m=\u001b[39m img_to_array(image)\n\u001b[0;32m      <a href='vscode-notebook-cell:/c%3A/Users/Dell%20I5/Documents/PROJECTS/image_classifier/image_classifier.ipynb#ch0000012?line=5'>6</a>\u001b[0m     image \u001b[39m=\u001b[39m image\u001b[39m.\u001b[39mreshape((\u001b[39m1\u001b[39m, image\u001b[39m.\u001b[39mshape[\u001b[39m0\u001b[39m], image\u001b[39m.\u001b[39mshape[\u001b[39m1\u001b[39m], image\u001b[39m.\u001b[39mshape[\u001b[39m2\u001b[39m]))\n",
      "File \u001b[1;32mc:\\Users\\Dell I5\\AppData\\Local\\Programs\\Python\\Python310\\lib\\site-packages\\keras\\utils\\image_utils.py:393\u001b[0m, in \u001b[0;36mload_img\u001b[1;34m(path, grayscale, color_mode, target_size, interpolation, keep_aspect_ratio)\u001b[0m\n\u001b[0;32m    <a href='file:///c%3A/Users/Dell%20I5/AppData/Local/Programs/Python/Python310/lib/site-packages/keras/utils/image_utils.py?line=390'>391</a>\u001b[0m   \u001b[39mif\u001b[39;00m \u001b[39misinstance\u001b[39m(path, pathlib\u001b[39m.\u001b[39mPath):\n\u001b[0;32m    <a href='file:///c%3A/Users/Dell%20I5/AppData/Local/Programs/Python/Python310/lib/site-packages/keras/utils/image_utils.py?line=391'>392</a>\u001b[0m     path \u001b[39m=\u001b[39m \u001b[39mstr\u001b[39m(path\u001b[39m.\u001b[39mresolve())\n\u001b[1;32m--> <a href='file:///c%3A/Users/Dell%20I5/AppData/Local/Programs/Python/Python310/lib/site-packages/keras/utils/image_utils.py?line=392'>393</a>\u001b[0m   \u001b[39mwith\u001b[39;00m \u001b[39mopen\u001b[39;49m(path, \u001b[39m'\u001b[39;49m\u001b[39mrb\u001b[39;49m\u001b[39m'\u001b[39;49m) \u001b[39mas\u001b[39;00m f:\n\u001b[0;32m    <a href='file:///c%3A/Users/Dell%20I5/AppData/Local/Programs/Python/Python310/lib/site-packages/keras/utils/image_utils.py?line=393'>394</a>\u001b[0m     img \u001b[39m=\u001b[39m pil_image\u001b[39m.\u001b[39mopen(io\u001b[39m.\u001b[39mBytesIO(f\u001b[39m.\u001b[39mread()))\n\u001b[0;32m    <a href='file:///c%3A/Users/Dell%20I5/AppData/Local/Programs/Python/Python310/lib/site-packages/keras/utils/image_utils.py?line=394'>395</a>\u001b[0m \u001b[39melse\u001b[39;00m:\n",
      "\u001b[1;31mPermissionError\u001b[0m: [Errno 13] Permission denied: '/'"
     ]
    }
   ],
   "source": [
    "m = []\n",
    "\n",
    "for i in men:\n",
    "    m.append(data_process(i))"
   ]
  },
  {
   "cell_type": "code",
   "execution_count": 31,
   "metadata": {},
   "outputs": [
    {
     "ename": "PermissionError",
     "evalue": "[Errno 13] Permission denied: '/'",
     "output_type": "error",
     "traceback": [
      "\u001b[1;31m---------------------------------------------------------------------------\u001b[0m",
      "\u001b[1;31mPermissionError\u001b[0m                           Traceback (most recent call last)",
      "\u001b[1;32mc:\\Users\\Dell I5\\Documents\\PROJECTS\\image_classifier\\image_classifier.ipynb Cell 14'\u001b[0m in \u001b[0;36m<cell line: 3>\u001b[1;34m()\u001b[0m\n\u001b[0;32m      <a href='vscode-notebook-cell:/c%3A/Users/Dell%20I5/Documents/PROJECTS/image_classifier/image_classifier.ipynb#ch0000014?line=0'>1</a>\u001b[0m w \u001b[39m=\u001b[39m []\n\u001b[0;32m      <a href='vscode-notebook-cell:/c%3A/Users/Dell%20I5/Documents/PROJECTS/image_classifier/image_classifier.ipynb#ch0000014?line=2'>3</a>\u001b[0m \u001b[39mfor\u001b[39;00m i \u001b[39min\u001b[39;00m men:\n\u001b[1;32m----> <a href='vscode-notebook-cell:/c%3A/Users/Dell%20I5/Documents/PROJECTS/image_classifier/image_classifier.ipynb#ch0000014?line=3'>4</a>\u001b[0m     w\u001b[39m.\u001b[39mappend(data_process(i))\n",
      "\u001b[1;32mc:\\Users\\Dell I5\\Documents\\PROJECTS\\image_classifier\\image_classifier.ipynb Cell 12'\u001b[0m in \u001b[0;36mdata_process\u001b[1;34m(data)\u001b[0m\n\u001b[0;32m      <a href='vscode-notebook-cell:/c%3A/Users/Dell%20I5/Documents/PROJECTS/image_classifier/image_classifier.ipynb#ch0000012?line=0'>1</a>\u001b[0m \u001b[39mdef\u001b[39;00m \u001b[39mdata_process\u001b[39m(data):\n\u001b[1;32m----> <a href='vscode-notebook-cell:/c%3A/Users/Dell%20I5/Documents/PROJECTS/image_classifier/image_classifier.ipynb#ch0000012?line=1'>2</a>\u001b[0m     image \u001b[39m=\u001b[39m load_img(data, target_size\u001b[39m=\u001b[39;49m(\u001b[39m224\u001b[39;49m, \u001b[39m224\u001b[39;49m))\n\u001b[0;32m      <a href='vscode-notebook-cell:/c%3A/Users/Dell%20I5/Documents/PROJECTS/image_classifier/image_classifier.ipynb#ch0000012?line=3'>4</a>\u001b[0m     image \u001b[39m=\u001b[39m img_to_array(image)\n\u001b[0;32m      <a href='vscode-notebook-cell:/c%3A/Users/Dell%20I5/Documents/PROJECTS/image_classifier/image_classifier.ipynb#ch0000012?line=5'>6</a>\u001b[0m     image \u001b[39m=\u001b[39m image\u001b[39m.\u001b[39mreshape((\u001b[39m1\u001b[39m, image\u001b[39m.\u001b[39mshape[\u001b[39m0\u001b[39m], image\u001b[39m.\u001b[39mshape[\u001b[39m1\u001b[39m], image\u001b[39m.\u001b[39mshape[\u001b[39m2\u001b[39m]))\n",
      "File \u001b[1;32mc:\\Users\\Dell I5\\AppData\\Local\\Programs\\Python\\Python310\\lib\\site-packages\\keras\\utils\\image_utils.py:393\u001b[0m, in \u001b[0;36mload_img\u001b[1;34m(path, grayscale, color_mode, target_size, interpolation, keep_aspect_ratio)\u001b[0m\n\u001b[0;32m    <a href='file:///c%3A/Users/Dell%20I5/AppData/Local/Programs/Python/Python310/lib/site-packages/keras/utils/image_utils.py?line=390'>391</a>\u001b[0m   \u001b[39mif\u001b[39;00m \u001b[39misinstance\u001b[39m(path, pathlib\u001b[39m.\u001b[39mPath):\n\u001b[0;32m    <a href='file:///c%3A/Users/Dell%20I5/AppData/Local/Programs/Python/Python310/lib/site-packages/keras/utils/image_utils.py?line=391'>392</a>\u001b[0m     path \u001b[39m=\u001b[39m \u001b[39mstr\u001b[39m(path\u001b[39m.\u001b[39mresolve())\n\u001b[1;32m--> <a href='file:///c%3A/Users/Dell%20I5/AppData/Local/Programs/Python/Python310/lib/site-packages/keras/utils/image_utils.py?line=392'>393</a>\u001b[0m   \u001b[39mwith\u001b[39;00m \u001b[39mopen\u001b[39;49m(path, \u001b[39m'\u001b[39;49m\u001b[39mrb\u001b[39;49m\u001b[39m'\u001b[39;49m) \u001b[39mas\u001b[39;00m f:\n\u001b[0;32m    <a href='file:///c%3A/Users/Dell%20I5/AppData/Local/Programs/Python/Python310/lib/site-packages/keras/utils/image_utils.py?line=393'>394</a>\u001b[0m     img \u001b[39m=\u001b[39m pil_image\u001b[39m.\u001b[39mopen(io\u001b[39m.\u001b[39mBytesIO(f\u001b[39m.\u001b[39mread()))\n\u001b[0;32m    <a href='file:///c%3A/Users/Dell%20I5/AppData/Local/Programs/Python/Python310/lib/site-packages/keras/utils/image_utils.py?line=394'>395</a>\u001b[0m \u001b[39melse\u001b[39;00m:\n",
      "\u001b[1;31mPermissionError\u001b[0m: [Errno 13] Permission denied: '/'"
     ]
    }
   ],
   "source": [
    "w = []\n",
    "\n",
    "for i in men:\n",
    "    w.append(data_process(i))"
   ]
  },
  {
   "cell_type": "code",
   "execution_count": null,
   "metadata": {},
   "outputs": [],
   "source": []
  }
 ],
 "metadata": {
  "interpreter": {
   "hash": "3e2853e02dcd7aac918e7717f8b79ad1ffe8af53512c96b350338b715182034a"
  },
  "kernelspec": {
   "display_name": "Python 3.10.4 64-bit",
   "language": "python",
   "name": "python3"
  },
  "language_info": {
   "codemirror_mode": {
    "name": "ipython",
    "version": 3
   },
   "file_extension": ".py",
   "mimetype": "text/x-python",
   "name": "python",
   "nbconvert_exporter": "python",
   "pygments_lexer": "ipython3",
   "version": "3.10.4"
  },
  "orig_nbformat": 4
 },
 "nbformat": 4,
 "nbformat_minor": 2
}
