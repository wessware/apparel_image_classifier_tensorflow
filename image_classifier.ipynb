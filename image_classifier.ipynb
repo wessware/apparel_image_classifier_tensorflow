{
 "cells": [
  {
   "cell_type": "code",
   "execution_count": 1,
   "metadata": {},
   "outputs": [
    {
     "name": "stdout",
     "output_type": "stream",
     "text": [
      "3.10.4\n"
     ]
    }
   ],
   "source": [
    "from platform import python_version\n",
    "print(python_version())"
   ]
  },
  {
   "cell_type": "code",
   "execution_count": 3,
   "metadata": {},
   "outputs": [],
   "source": [
    "import os\n",
    "import zipfile\n",
    "from skimage.io import imread_collection\n",
    "import matplotlib.pyplot as plt\n",
    "%matplotlib inline"
   ]
  },
  {
   "cell_type": "code",
   "execution_count": 7,
   "metadata": {},
   "outputs": [],
   "source": [
    "#from keras.preprocessing.image import load_img\n",
    "from tensorflow.keras.utils import img_to_array, load_img\n",
    "from keras.applications.vgg16 import preprocess_input\n",
    "from keras.applications.vgg16 import decode_predictions\n",
    "from keras.applications.vgg16 import VGG16\n",
    "from keras import applications"
   ]
  },
  {
   "cell_type": "code",
   "execution_count": 10,
   "metadata": {},
   "outputs": [],
   "source": [
    "    from tensorflow.keras.preprocessing.image import ImageDataGenerator\n",
    "    from keras import optimizers\n",
    "    from keras.models import Sequential, Model\n",
    "    from keras.layers import Dropout, Flatten, Dense, GlobalAveragePooling2D\n",
    "    from keras import backend as k\n",
    "    import keras"
   ]
  },
  {
   "cell_type": "code",
   "execution_count": 22,
   "metadata": {},
   "outputs": [],
   "source": [
    "with zipfile.ZipFile(\"male.zip\", \"r\") as zip:\n",
    "    zip.extractall(\"/images/male/\")"
   ]
  },
  {
   "cell_type": "code",
   "execution_count": 17,
   "metadata": {},
   "outputs": [
    {
     "name": "stdout",
     "output_type": "stream",
     "text": [
      "getcwd       : c:\\Users\\Dell I5\\Documents\\PROJECTS\\image_classifier\n"
     ]
    }
   ],
   "source": [
    "print('getcwd       :', os.getcwd())"
   ]
  },
  {
   "cell_type": "code",
   "execution_count": 23,
   "metadata": {},
   "outputs": [
    {
     "name": "stdout",
     "output_type": "stream",
     "text": [
      "Number of men shoes pictures: 0.\n"
     ]
    }
   ],
   "source": [
    "#reading folder\n",
    "men = \"/c:/Users/Dell I5/Documents/PROJECTS/image_classifier/images/male/*.jpg\"\n",
    "#create image collection\n",
    "men_shoes = imread_collection(men)\n",
    "print(f\"Number of men shoes pictures: {len(men_shoes)}.\")"
   ]
  },
  {
   "cell_type": "code",
   "execution_count": 24,
   "metadata": {},
   "outputs": [],
   "source": [
    "with zipfile.ZipFile(\"female.zip\", \"r\") as zip_ref:\n",
    "    zip_ref.extractall(\"/images/female/\")"
   ]
  },
  {
   "cell_type": "code",
   "execution_count": 26,
   "metadata": {},
   "outputs": [
    {
     "name": "stdout",
     "output_type": "stream",
     "text": [
      "Number of women shoes pictures: 0.\n"
     ]
    }
   ],
   "source": [
    "men = \"/c:/Users/Dell I5/Documents/PROJECTS/image_classifier/images/female/*.jpg\"\n",
    "#create image collection\n",
    "women_shoes = imread_collection(men)\n",
    "print(f\"Number of women shoes pictures: {len(women_shoes)}.\")"
   ]
  },
  {
   "cell_type": "code",
   "execution_count": null,
   "metadata": {},
   "outputs": [],
   "source": []
  }
 ],
 "metadata": {
  "interpreter": {
   "hash": "3e2853e02dcd7aac918e7717f8b79ad1ffe8af53512c96b350338b715182034a"
  },
  "kernelspec": {
   "display_name": "Python 3.10.4 64-bit",
   "language": "python",
   "name": "python3"
  },
  "language_info": {
   "codemirror_mode": {
    "name": "ipython",
    "version": 3
   },
   "file_extension": ".py",
   "mimetype": "text/x-python",
   "name": "python",
   "nbconvert_exporter": "python",
   "pygments_lexer": "ipython3",
   "version": "3.10.4"
  },
  "orig_nbformat": 4
 },
 "nbformat": 4,
 "nbformat_minor": 2
}
