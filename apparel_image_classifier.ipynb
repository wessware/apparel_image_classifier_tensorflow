{
  "nbformat": 4,
  "nbformat_minor": 0,
  "metadata": {
    "colab": {
      "name": "apparel_image_classifier.ipynb",
      "provenance": [],
      "collapsed_sections": [],
      "authorship_tag": "ABX9TyPVYsfiG2HhXFs9awTUmbhG",
      "include_colab_link": true
    },
    "kernelspec": {
      "name": "python3",
      "display_name": "Python 3"
    },
    "language_info": {
      "name": "python"
    }
  },
  "cells": [
    {
      "cell_type": "markdown",
      "metadata": {
        "id": "view-in-github",
        "colab_type": "text"
      },
      "source": [
        "<a href=\"https://colab.research.google.com/github/wessware/apparel_image_classifier_tensorflow/blob/main/apparel_image_classifier.ipynb\" target=\"_parent\"><img src=\"https://colab.research.google.com/assets/colab-badge.svg\" alt=\"Open In Colab\"/></a>"
      ]
    },
    {
      "cell_type": "code",
      "execution_count": 46,
      "metadata": {
        "id": "NEfAO7xgeKrs"
      },
      "outputs": [],
      "source": [
        "from platform import python_version"
      ]
    },
    {
      "cell_type": "code",
      "source": [
        "print(python_version())"
      ],
      "metadata": {
        "colab": {
          "base_uri": "https://localhost:8080/"
        },
        "id": "A-_NKcJikW1q",
        "outputId": "a886797e-9eec-4b1b-fab1-c2f60153d7e8"
      },
      "execution_count": 47,
      "outputs": [
        {
          "output_type": "stream",
          "name": "stdout",
          "text": [
            "3.7.13\n"
          ]
        }
      ]
    },
    {
      "cell_type": "code",
      "source": [
        "import os\n",
        "import zipfile\n",
        "from skimage.io import imread_collection\n",
        "import matplotlib.pyplot as plt"
      ],
      "metadata": {
        "id": "t74gNCS_lAJW"
      },
      "execution_count": 48,
      "outputs": []
    },
    {
      "cell_type": "code",
      "source": [
        "with zipfile.ZipFile(\"/content/sample_data/male_shoes/male.zip\", \"r\") as zip_ref:\n",
        "  zip_ref.extractall()"
      ],
      "metadata": {
        "id": "zuo406RJlY2O"
      },
      "execution_count": 49,
      "outputs": []
    },
    {
      "cell_type": "code",
      "source": [
        "print('getcwd   : ', os.getcwd())"
      ],
      "metadata": {
        "colab": {
          "base_uri": "https://localhost:8080/"
        },
        "id": "595U-1YmpYQD",
        "outputId": "c8423b37-bb4e-41fb-ff45-a125c475ac4a"
      },
      "execution_count": 50,
      "outputs": [
        {
          "output_type": "stream",
          "name": "stdout",
          "text": [
            "getcwd   :  /content\n"
          ]
        }
      ]
    },
    {
      "cell_type": "code",
      "source": [
        "#reading folder\n",
        "men = \"/content/sample_data/male_shoes/*.jpg\"\n",
        "#create image collection\n",
        "men_shoes = imread_collection(men)\n",
        "print(f\"Number of men shoes pictures: {len(men_shoes)}.\")"
      ],
      "metadata": {
        "colab": {
          "base_uri": "https://localhost:8080/"
        },
        "id": "IUVJNi7G0JW0",
        "outputId": "76e5179c-3c8c-471a-b09e-f8b8fa81ba95"
      },
      "execution_count": 51,
      "outputs": [
        {
          "output_type": "stream",
          "name": "stdout",
          "text": [
            "Number of men shoes pictures: 0.\n"
          ]
        }
      ]
    },
    {
      "cell_type": "code",
      "source": [
        "with zipfile.ZipFile(\"/content/sample_data/female_shoes/female.zip\", \"r\") as zip_ref:\n",
        "    zip_ref.extractall()"
      ],
      "metadata": {
        "id": "qmi-pyq80wuC"
      },
      "execution_count": 52,
      "outputs": []
    },
    {
      "cell_type": "code",
      "source": [
        "#reading folder\n",
        "women = \"/content/female_shoes/*.jpg\"\n",
        "#create image collection\n",
        "women_shoes = imread_collection(women)\n",
        "print(f\"Number of women shoes pictures: {len(women_shoes)}.\")"
      ],
      "metadata": {
        "colab": {
          "base_uri": "https://localhost:8080/"
        },
        "id": "IRcgdKOJ1IwT",
        "outputId": "b8893b50-7097-4ca4-9d7f-1c80a9e2bcdb"
      },
      "execution_count": 53,
      "outputs": [
        {
          "output_type": "stream",
          "name": "stdout",
          "text": [
            "Number of women shoes pictures: 0.\n"
          ]
        }
      ]
    },
    {
      "cell_type": "code",
      "source": [
        ""
      ],
      "metadata": {
        "id": "YZ_rBJz91_Y5"
      },
      "execution_count": 53,
      "outputs": []
    }
  ]
}