{
  "nbformat": 4,
  "nbformat_minor": 0,
  "metadata": {
    "colab": {
      "name": "apparel_image_classifier.ipynb",
      "provenance": [],
      "collapsed_sections": [],
      "authorship_tag": "ABX9TyNkpehszg+jcry5snAdBOHq",
      "include_colab_link": true
    },
    "kernelspec": {
      "name": "python3",
      "display_name": "Python 3"
    },
    "language_info": {
      "name": "python"
    }
  },
  "cells": [
    {
      "cell_type": "markdown",
      "metadata": {
        "id": "view-in-github",
        "colab_type": "text"
      },
      "source": [
        "<a href=\"https://colab.research.google.com/github/wessware/apparel_image_classifier_tensorflow/blob/main/apparel_image_classifier.ipynb\" target=\"_parent\"><img src=\"https://colab.research.google.com/assets/colab-badge.svg\" alt=\"Open In Colab\"/></a>"
      ]
    },
    {
      "cell_type": "code",
      "execution_count": 6,
      "metadata": {
        "id": "NEfAO7xgeKrs"
      },
      "outputs": [],
      "source": [
        "from platform import python_version"
      ]
    },
    {
      "cell_type": "code",
      "source": [
        "print(python_version())"
      ],
      "metadata": {
        "colab": {
          "base_uri": "https://localhost:8080/"
        },
        "id": "A-_NKcJikW1q",
        "outputId": "e013be08-6938-49f1-ef20-0aed4bcccdef"
      },
      "execution_count": 7,
      "outputs": [
        {
          "output_type": "stream",
          "name": "stdout",
          "text": [
            "3.7.13\n"
          ]
        }
      ]
    },
    {
      "cell_type": "code",
      "source": [
        "import os\n",
        "import zipfile\n",
        "from skimage.io import imread_collection\n",
        "import matplotlib.pyplot as plt"
      ],
      "metadata": {
        "id": "t74gNCS_lAJW"
      },
      "execution_count": 8,
      "outputs": []
    },
    {
      "cell_type": "code",
      "source": [
        "with zipfile.ZipFile(\"/content/sample_data/male.zip\", \"r\") as zip_ref:\n",
        "  zip_ref.extractall()"
      ],
      "metadata": {
        "id": "zuo406RJlY2O"
      },
      "execution_count": 11,
      "outputs": []
    },
    {
      "cell_type": "code",
      "source": [
        "print('getcwd   ', os.getcwd())"
      ],
      "metadata": {
        "colab": {
          "base_uri": "https://localhost:8080/"
        },
        "id": "595U-1YmpYQD",
        "outputId": "9dc08331-8ed1-49d0-b12c-65594d267685"
      },
      "execution_count": 12,
      "outputs": [
        {
          "output_type": "stream",
          "name": "stdout",
          "text": [
            "getcwd    /content\n"
          ]
        }
      ]
    },
    {
      "cell_type": "code",
      "source": [
        "#reading folder\n",
        "men = \"/content/*.jpg\"\n",
        "#create image collection\n",
        "men_shoes = imread_collection(men)\n",
        "print(f\"Number of men shoes pictures: {len(men_shoes)}.\")"
      ],
      "metadata": {
        "colab": {
          "base_uri": "https://localhost:8080/"
        },
        "id": "IUVJNi7G0JW0",
        "outputId": "d0ccaf24-86a0-4cc0-b901-c83683c23037"
      },
      "execution_count": 18,
      "outputs": [
        {
          "output_type": "stream",
          "name": "stdout",
          "text": [
            "Number of men shoes pictures: 757.\n"
          ]
        }
      ]
    },
    {
      "cell_type": "code",
      "source": [
        "with zipfile.ZipFile(\"/content/sample_data/female.zip\", \"r\") as zip_ref:\n",
        "    zip_ref.extractall()"
      ],
      "metadata": {
        "id": "qmi-pyq80wuC"
      },
      "execution_count": 19,
      "outputs": []
    },
    {
      "cell_type": "code",
      "source": [
        "#reading folder\n",
        "women = \"/content/*.jpg\"\n",
        "#create image collection\n",
        "women_shoes = imread_collection(women)\n",
        "print(f\"Number of women shoes pictures: {len(women_shoes)}.\")"
      ],
      "metadata": {
        "colab": {
          "base_uri": "https://localhost:8080/"
        },
        "id": "IRcgdKOJ1IwT",
        "outputId": "ef37d1bb-710c-484c-fab6-aa21af0b67f6"
      },
      "execution_count": 20,
      "outputs": [
        {
          "output_type": "stream",
          "name": "stdout",
          "text": [
            "Number of women shoes pictures: 757.\n"
          ]
        }
      ]
    },
    {
      "cell_type": "code",
      "source": [
        ""
      ],
      "metadata": {
        "id": "YZ_rBJz91_Y5"
      },
      "execution_count": null,
      "outputs": []
    }
  ]
}